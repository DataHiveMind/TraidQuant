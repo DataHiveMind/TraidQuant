{
 "cells": [
  {
   "cell_type": "code",
   "execution_count": null,
   "id": "04af1b59",
   "metadata": {
    "vscode": {
     "languageId": "plaintext"
    }
   },
   "outputs": [],
   "source": [
    "import pandas as pd\n",
    "import matplotlib.pyplot as plt\n",
    "import seaborn as sns\n",
    "\n",
    "# Load the data (replace with your actual data loading)\n",
    "data = pd.read_csv(\"data.csv\")  # Or data.parquet, depending on your file\n",
    "\n",
    "# Display the first few rows\n",
    "print(data.head())\n",
    "\n",
    "# Get information about the data types and missing values\n",
    "print(data.info())\n",
    "\n",
    "# Summary statistics for numerical columns\n",
    "print(data.describe())\n",
    "\n",
    "# --- Visualizations ---\n",
    "\n",
    "# 1. Time Series Plot of Close Price\n",
    "plt.figure(figsize=(10, 6))\n",
    "plt.plot(data['Date'], data['Close'])  # Assuming you have a 'Date' and 'Close' column\n",
    "plt.xlabel(\"Date\")\n",
    "plt.ylabel(\"Close Price\")\n",
    "plt.title(\"Close Price Over Time\")\n",
    "plt.grid(True)\n",
    "plt.show()\n",
    "\n",
    "\n",
    "# 2. Histogram of Volume\n",
    "plt.figure(figsize=(10, 6))\n",
    "sns.histplot(data['Volume'], bins=30, kde=True)\n",
    "plt.xlabel(\"Volume\")\n",
    "plt.ylabel(\"Frequency\")\n",
    "plt.title(\"Volume Distribution\")\n",
    "plt.show()\n",
    "\n",
    "# 3. Boxplot of Returns (if you have a Returns column)\n",
    "if 'Returns' in data.columns:\n",
    "    plt.figure(figsize=(8, 6))\n",
    "    sns.boxplot(y=data['Returns'])\n",
    "    plt.ylabel(\"Returns\")\n",
    "    plt.title(\"Boxplot of Returns\")\n",
    "    plt.show()\n",
    "\n",
    "\n",
    "# 4. Correlation Matrix Heatmap (for numerical columns)\n",
    "numeric_data = data.select_dtypes(include=np.number) # Select only numeric columns\n",
    "corr_matrix = numeric_data.corr()\n",
    "plt.figure(figsize=(10, 8))\n",
    "sns.heatmap(corr_matrix, annot=True, cmap=\"coolwarm\", vmin=-1, vmax=1)\n",
    "plt.title(\"Correlation Matrix\")\n",
    "plt.show()\n"
   ]
  }
 ],
 "metadata": {
  "language_info": {
   "name": "python"
  }
 },
 "nbformat": 4,
 "nbformat_minor": 5
}
